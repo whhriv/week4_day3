{
 "cells": [
  {
   "cell_type": "markdown",
   "metadata": {},
   "source": [
    "# Classic Algorithms"
   ]
  },
  {
   "cell_type": "markdown",
   "metadata": {},
   "source": [
    "## Tasks Today:\n",
    "\n",
    "1) <b>Intro to Algorithms</b> <br>\n",
    " &nbsp;&nbsp;&nbsp;&nbsp; a) What are algorithms <br>\n",
    " &nbsp;&nbsp;&nbsp;&nbsp; b) Quick Intro to Big-O Notation <br>\n",
    "2) <b>In-Place Algorithms</b> <br>\n",
    " &nbsp;&nbsp;&nbsp;&nbsp; a) Syntax <br>\n",
    " &nbsp;&nbsp;&nbsp;&nbsp; a) Out of Place Algorithm <br>\n",
    " &nbsp;&nbsp;&nbsp;&nbsp; b) In-Class Exercise #1 <br>\n",
    "3) <b>Two Pointers</b> <br>\n",
    "4) <b>Sorting Algorithms</b> <br>\n",
    "5) <b>Merge Sort</b> <br>\n",
    " &nbsp;&nbsp;&nbsp;&nbsp; a) Video on Algorithms <br>\n",
    " &nbsp;&nbsp;&nbsp;&nbsp; b) How it Works <br>\n",
    "6) <b>Exercises</b> <br>\n",
    " &nbsp;&nbsp;&nbsp;&nbsp; a) Exercise #1 - Reverse a List in Place Using an In-Place Algorithm <br>\n",
    " &nbsp;&nbsp;&nbsp;&nbsp; b) Exercise #2 - Find Distinct Words <br>\n",
    " &nbsp;&nbsp;&nbsp;&nbsp; c) Exercise #3 - Write a program to implement a Linear Search Algorithm. <br>"
   ]
  },
  {
   "cell_type": "markdown",
   "metadata": {},
   "source": [
    "## Intro to Algorithms"
   ]
  },
  {
   "cell_type": "markdown",
   "metadata": {},
   "source": [
    "#### What is an algorithm"
   ]
  },
  {
   "cell_type": "markdown",
   "metadata": {},
   "source": [
    "- An algorithm is a set of instructions for solving a problem \n",
    "- Algorithms are used to solve all types of problems such as sorting data and searching for information\n",
    "- Being able to write efficient algorithms is an important part of being a computer programmer"
   ]
  },
  {
   "cell_type": "markdown",
   "metadata": {},
   "source": [
    "#### Quick Intro to Big O Notation"
   ]
  },
  {
   "cell_type": "markdown",
   "metadata": {},
   "source": [
    "Time and space complexity is the measure of how much time a given action(function) will take to solve a problem. In the same fashion, we determine how much a given data structure will need in terms of memory allocation. A problem can have multiple solutions and finding the optimal solution for the problem needs to be analyzed in time and space.\n",
    "<br>\n",
    "See more <a href=\"https://zippy-lan-200.notion.site/Intro-to-Time-Complexity-ae4a9c7dbefb4b9f9351ade7a2b2fa72\">here</a>"
   ]
  },
  {
   "cell_type": "markdown",
   "metadata": {},
   "source": [
    "## In-Place Algorithms"
   ]
  },
  {
   "cell_type": "markdown",
   "metadata": {},
   "source": [
    "#### Syntax"
   ]
  },
  {
   "cell_type": "code",
   "execution_count": 5,
   "metadata": {},
   "outputs": [],
   "source": [
    "#in place - changing current list\n",
    "\n",
    "my_list = [1, 2, 3, 4, 5, 6]\n",
    "my_list2 = ['a','b','c','d','e']"
   ]
  },
  {
   "cell_type": "code",
   "execution_count": 11,
   "metadata": {},
   "outputs": [],
   "source": [
    "def swap0(a_list, index1, index2):\n",
    "    a_list[index1] = a_list[index2]\n",
    "    a_list[index2] = a_list[index1]\n",
    "    \n",
    "swap(my_list2, 1, 4)\n"
   ]
  },
  {
   "cell_type": "code",
   "execution_count": 9,
   "metadata": {},
   "outputs": [
    {
     "data": {
      "text/plain": [
       "['a', 'e', 'c', 'd', 'b']"
      ]
     },
     "execution_count": 9,
     "metadata": {},
     "output_type": "execute_result"
    }
   ],
   "source": [
    "my_list2 = ['a','b','c','d','e']\n",
    "\n",
    "def swap1(a_list, index1, index2):\n",
    "    temp = a_list[index1]\n",
    "    a_list[index1] = a_list[index2]\n",
    "    a_list[index2] = temp\n",
    "    return a_list\n",
    "swap1(my_list2, 1, 4)"
   ]
  },
  {
   "cell_type": "code",
   "execution_count": 13,
   "metadata": {},
   "outputs": [
    {
     "name": "stdout",
     "output_type": "stream",
     "text": [
      "before: ['red', 'orange', 'yellow', 'green', 'blue']\n",
      "after:  ['red', 'blue', 'yellow', 'green', 'orange']\n"
     ]
    }
   ],
   "source": [
    "# a_list[a], a_list[b] = a_list[b], a_list[a]\n",
    "\n",
    "def swap2(a_list, index_a, index_b):\n",
    "    a_list[index_a], a_list[index_b] = a_list[index_b], a_list[index_a]\n",
    "    return a_list\n",
    "my_new_list = ['red','orange','yellow','green','blue']\n",
    "print(\"before:\", my_new_list)\n",
    "swap2(my_new_list, 1,4)\n",
    "print(\"after: \", my_new_list)\n"
   ]
  },
  {
   "cell_type": "code",
   "execution_count": null,
   "metadata": {},
   "outputs": [],
   "source": []
  },
  {
   "cell_type": "markdown",
   "metadata": {},
   "source": [
    "#### Out of Place Algorithm"
   ]
  },
  {
   "cell_type": "code",
   "execution_count": 14,
   "metadata": {
    "scrolled": true
   },
   "outputs": [],
   "source": [
    "#out of place - making a new value/list\n",
    "\n",
    "def out_of_place_swap(a_list, indexA, indexB):\n",
    "    new_list = a_list[:] #create copy of a_list\n",
    "    new_list[indexA] = a_list[indexB]\n",
    "    new_list[indexB] = a_list[indexA]\n",
    "    return new_list"
   ]
  },
  {
   "cell_type": "code",
   "execution_count": 16,
   "metadata": {},
   "outputs": [
    {
     "name": "stdout",
     "output_type": "stream",
     "text": [
      "Before ['Africa', 'Antarctica', 'Asia', 'Australia', 'Europe', 'North America', 'South America']\n",
      "After:  ['Africa', 'Antarctica', 'Asia', 'Australia', 'Europe', 'North America', 'South America']\n",
      "new list:  ['South America', 'Antarctica', 'Asia', 'Australia', 'Europe', 'North America', 'Africa']\n"
     ]
    }
   ],
   "source": [
    "continents = ['Africa', 'Antarctica', 'Asia', 'Australia', 'Europe', 'North America', 'South America']\n",
    "\n",
    "print('Before', continents)\n",
    "swapped_continents = out_of_place_swap(continents, 0,6)\n",
    "print('After: ', continents)\n",
    "print('new list: ', swapped_continents)"
   ]
  },
  {
   "cell_type": "code",
   "execution_count": 22,
   "metadata": {
    "scrolled": true
   },
   "outputs": [
    {
     "name": "stdout",
     "output_type": "stream",
     "text": [
      "before:  [4, 6, 9, 3, 1, 5, 2, 8, 7]\n",
      "After:  [1, 2, 3, 4, 5, 6, 7, 8, 9]\n",
      "Return Value:  None\n"
     ]
    }
   ],
   "source": [
    "#.sort method is in-place\n",
    "unsorted_list = [4,6,9,3,1,5,2,8,7]\n",
    "\n",
    "print('before: ', unsorted_list)\n",
    "sort_return = unsorted_list.sort()\n",
    "\n",
    "print('After: ', unsorted_list)\n",
    "print('Return Value: ', sort_return)"
   ]
  },
  {
   "cell_type": "code",
   "execution_count": 23,
   "metadata": {},
   "outputs": [
    {
     "name": "stdout",
     "output_type": "stream",
     "text": [
      "before:  [4, 6, 9, 3, 1, 5, 2, 8, 7]\n",
      "After:  [4, 6, 9, 3, 1, 5, 2, 8, 7]\n",
      "Return Value:  [1, 2, 3, 4, 5, 6, 7, 8, 9]\n"
     ]
    }
   ],
   "source": [
    "#sorted function is out-of-place\n",
    "\n",
    "unsorted_list = [4,6,9,3,1,5,2,8,7]\n",
    "\n",
    "print('before: ', unsorted_list)\n",
    "sort_return = sorted(unsorted_list)\n",
    "print('After: ', unsorted_list)\n",
    "print('Return Value: ', sort_return)"
   ]
  },
  {
   "cell_type": "markdown",
   "metadata": {},
   "source": [
    "#### In-Class Exercise #1 <br>\n",
    "<p>Write a function that takes in four arguments (a_list, index1, index2, index3), and swaps those three positions in the list passed in.</p>"
   ]
  },
  {
   "cell_type": "code",
   "execution_count": 30,
   "metadata": {},
   "outputs": [
    {
     "name": "stdout",
     "output_type": "stream",
     "text": [
      "<function ex1 at 0x108b7dd00> 1 3 4\n",
      "['one', 'four', 'three', 'five', 'two', 'six']\n"
     ]
    }
   ],
   "source": [
    "#in line\n",
    "\n",
    "\n",
    "listex1 = ['one', 'two', 'three', 'four', 'five', 'six']\n",
    "\n",
    "def ex1(list, a, b, c):\n",
    "    \n",
    "    list[a], list[b], list[c] = list[b], list[c], list[a]\n",
    "    return list\n",
    "    \n",
    "ex1(listex1, 1, 3, 4)\n",
    "\n",
    "print(listex1)\n",
    "\n",
    "\n",
    "\n"
   ]
  },
  {
   "cell_type": "markdown",
   "metadata": {},
   "source": [
    "## Two Pointers"
   ]
  },
  {
   "cell_type": "markdown",
   "metadata": {},
   "source": [
    "#### Syntax"
   ]
  },
  {
   "cell_type": "code",
   "execution_count": 39,
   "metadata": {},
   "outputs": [
    {
     "name": "stdout",
     "output_type": "stream",
     "text": [
      "['a', 'b', 'c', 'd', 'e']\n"
     ]
    }
   ],
   "source": [
    "#this doesn't work for me\n",
    "\n",
    "my_list2 = ['a','b','c','d','e']\n",
    "def reverse_list(lst):\n",
    "    left = 0 #start at the far left end of the list\n",
    "    right = len(lst) #start at the far right end of list\n",
    "    while left > right:\n",
    "        lst[left], lst[right] = lst[right], lst[left] #swap values at left and right\n",
    "        left += 1 #move the left index to the right by 1\n",
    "        right -= 1 #move the right index to the left by 1\n",
    "    return lst\n",
    "reverse_list(my_list2)\n",
    "print(my_list2)"
   ]
  },
  {
   "cell_type": "code",
   "execution_count": 46,
   "metadata": {},
   "outputs": [
    {
     "data": {
      "text/plain": [
       "[1, 2, 3, 4, 5, 6, 7, 8, 9]"
      ]
     },
     "execution_count": 46,
     "metadata": {},
     "output_type": "execute_result"
    }
   ],
   "source": [
    "list_to_sort = [4,6,9,3,1,5,2,8,7]\n",
    "\n",
    "def bubble_sort(lst):\n",
    "    #when we first start, set a var to True and begin the while loop\n",
    "    made_swap = True\n",
    "    while made_swap:\n",
    "        # befin checking with assumption/hope that we don't have to make any swaps aka list is sorted\n",
    "        made_swap = False\n",
    "        #start at the 0 index and Loop through to second to last index because we check item and item to right, item=index\n",
    "        for i in range(len(lst) - 1):\n",
    "            #check if value at idx is > value to right\n",
    "            if lst[i] > lst[i + 1]:\n",
    "                # if so, swap values\n",
    "                lst[i], lst[i+1] = lst[i+1], lst[i]\n",
    "                #since we made a swap, change value of made_swap to True\n",
    "                made_swap = True\n",
    "    #once we loop through without making a swap, out list is sorted and we can return\n",
    "    return lst\n",
    "bubble_sort(list_to_sort)"
   ]
  },
  {
   "cell_type": "markdown",
   "metadata": {},
   "source": [
    "# Sorting Algorithms"
   ]
  },
  {
   "cell_type": "code",
   "execution_count": 41,
   "metadata": {},
   "outputs": [],
   "source": [
    "from random import randint\n",
    "\n",
    "\n",
    "list_to_sort = [randint(1,50)]"
   ]
  },
  {
   "cell_type": "markdown",
   "metadata": {},
   "source": [
    "#### Bubble Sort\n",
    "\n",
    "Worst Case: O(n^2) Time - O(1) Space"
   ]
  },
  {
   "cell_type": "code",
   "execution_count": 47,
   "metadata": {},
   "outputs": [
    {
     "data": {
      "text/plain": [
       "[1, 2, 3, 4, 5, 6, 7, 8, 9]"
      ]
     },
     "execution_count": 47,
     "metadata": {},
     "output_type": "execute_result"
    }
   ],
   "source": [
    "list_to_sort = [4,6,9,3,1,5,2,8,7]\n",
    "\n",
    "def bubble_sort(lst):\n",
    "    #when we first start, set a var to True and begin the while loop\n",
    "    made_swap = True\n",
    "    while made_swap:\n",
    "        # befin checking with assumption/hope that we don't have to make any swaps aka list is sorted\n",
    "        made_swap = False\n",
    "        #start at the 0 index and Loop through to second to last index because we check item and item to right, item=index\n",
    "        for i in range(len(lst) - 1):\n",
    "            #check if value at idx is > value to right\n",
    "            if lst[i] > lst[i + 1]:\n",
    "                # if so, swap values\n",
    "                lst[i], lst[i+1] = lst[i+1], lst[i]\n",
    "                #since we made a swap, change value of made_swap to True\n",
    "                made_swap = True\n",
    "    #once we loop through without making a swap, out list is sorted and we can return\n",
    "    return lst\n",
    "bubble_sort(list_to_sort)"
   ]
  },
  {
   "cell_type": "markdown",
   "metadata": {},
   "source": [
    "##### Insertion Sort\n",
    "\n",
    "Worst Case: O(n^2) time - O(1)space"
   ]
  },
  {
   "cell_type": "code",
   "execution_count": 60,
   "metadata": {},
   "outputs": [
    {
     "name": "stdout",
     "output_type": "stream",
     "text": [
      "[11, 21, 31, 17, 24, 7, 21, 50, 44, 9]\n"
     ]
    }
   ],
   "source": [
    "lst_ins = [randint(1,50) for _ in range(10)]\n",
    "print(lst_ins)"
   ]
  },
  {
   "cell_type": "code",
   "execution_count": 61,
   "metadata": {},
   "outputs": [
    {
     "data": {
      "text/plain": [
       "[11, 21, 31, 17, 24, 7, 21, 50, 44, 9]"
      ]
     },
     "execution_count": 61,
     "metadata": {},
     "output_type": "execute_result"
    }
   ],
   "source": [
    "def insertion_sort(lst):\n",
    "    #loop over the unordered section (start at 1 because 0-index is \"sorted\")\n",
    "    for i in range(1, len(lst)):\n",
    "        #while we are not at the front of the list AND the element to the left is greater than our element\n",
    "        pointer = i\n",
    "        while pointer > 0 and lst[pointer-1] >lst[pointer]:\n",
    "            #swap the element with the element to its left\n",
    "            lst[pointer], lst[pointer-1] = lst[pointer-1], lst[pointer]\n",
    "            # Move the pointer left one index (to match the new swap)\n",
    "            pointer -= 1\n",
    "        #once we've looped over the unordered section, the list should be ordered\n",
    "        return lst\n",
    "insertion_sort(lst_ins)"
   ]
  },
  {
   "cell_type": "code",
   "execution_count": 62,
   "metadata": {},
   "outputs": [
    {
     "data": {
      "text/plain": [
       "['allen', 'mike', 'james', 'nina', 'sarah', 'david', 'xavier']"
      ]
     },
     "execution_count": 62,
     "metadata": {},
     "output_type": "execute_result"
    }
   ],
   "source": [
    "names = ['mike', 'allen', 'james', 'nina', 'sarah', 'david', 'xavier']\n",
    "insertion_sort(names)"
   ]
  },
  {
   "cell_type": "markdown",
   "metadata": {},
   "source": [
    "## Merge Sort"
   ]
  },
  {
   "cell_type": "markdown",
   "metadata": {},
   "source": [
    "#### How it Works"
   ]
  },
  {
   "cell_type": "code",
   "execution_count": 65,
   "metadata": {},
   "outputs": [
    {
     "name": "stdout",
     "output_type": "stream",
     "text": [
      "[18, 7, 21, 50, 36]\n"
     ]
    }
   ],
   "source": [
    "lst_ins = [randint(1,50) for _ in range(5)]\n",
    "print(lst_ins)"
   ]
  },
  {
   "cell_type": "code",
   "execution_count": 71,
   "metadata": {},
   "outputs": [
    {
     "name": "stdout",
     "output_type": "stream",
     "text": [
      "splitting... [18, 7, 21, 50, 36]\n",
      "splitting... [18, 7]\n",
      "merging... [18]\n",
      "merging... [7]\n",
      "merging... [7, 18]\n",
      "splitting... [21, 50, 36]\n",
      "merging... [21]\n",
      "splitting... [50, 36]\n",
      "merging... [50]\n",
      "merging... [36]\n",
      "merging... [36, 50]\n",
      "merging... [21, 36, 50]\n",
      "merging... [7, 18, 21, 36, 50]\n"
     ]
    },
    {
     "data": {
      "text/plain": [
       "[7, 18, 21, 36, 50]"
      ]
     },
     "execution_count": 71,
     "metadata": {},
     "output_type": "execute_result"
    }
   ],
   "source": [
    "lllist = [18, 7, 21, 50, 36]\n",
    "\n",
    "def merge_sort(lst):\n",
    "    if len(lst)>1:\n",
    "        #find midway point of list\n",
    "        midway = len(lst) // 2\n",
    "        #split list into left and right\n",
    "        print('splitting...', lst)\n",
    "        left_half = lst[:midway]\n",
    "        right_half = lst[midway:]\n",
    "        \n",
    "        #call merge-sort on the left half\n",
    "        merge_sort(left_half)\n",
    "        merge_sort(right_half)\n",
    "        #merge the left and right half lists back into original list\n",
    "        \n",
    "        #index pointers for our lists\n",
    "        # 3 pointers left, right, main\n",
    "        l = 0 #left pointer\n",
    "        r = 0 #right pointer\n",
    "        m = 0 #main pointer\n",
    "        \n",
    "        #while we still have values in left and right\n",
    "        while l < len(left_half) and r < len(right_half):\n",
    "            #if the element we are pointing to in the left half is less than the element in the right half\n",
    "            if left_half[l] < right_half[r]:\n",
    "                lst[m] = left_half[l]\n",
    "                #move left half pointer right one spot\n",
    "                l += 1\n",
    "            else:\n",
    "                #place right half value in original list\n",
    "                lst[m] = right_half[r]\n",
    "                #move right half pointer one spot\n",
    "                r += 1\n",
    "            #either way, always increase main index pointer\n",
    "            m += 1\n",
    "            \n",
    "        #if one of the halfs finish, add the other half to the original list\n",
    "        while l < len(left_half):\n",
    "            lst[m] = left_half[l]\n",
    "            l +=1\n",
    "            m += 1\n",
    "        while r < len(right_half):\n",
    "            lst[m] = right_half[r]\n",
    "            r += 1\n",
    "            m += 1\n",
    "    print('merging...', lst)\n",
    "    return lst\n",
    "merge_sort(lllist)\n",
    "        "
   ]
  },
  {
   "cell_type": "code",
   "execution_count": null,
   "metadata": {},
   "outputs": [],
   "source": [
    "list_to_sort\n",
    "midway = len(lst_ins) //2\n",
    "left = lst_ins[:midway]\n",
    "right = lst_ins[:midway]\n"
   ]
  },
  {
   "cell_type": "markdown",
   "metadata": {},
   "source": [
    "# Binary Search\n",
    "\n",
    "The Binary Search algorithm works by finding the number in the middle of a given array and comparing it to the target. **Given that the array is sorted**\n",
    "\n",
    "* The worst case run time for this algorithm is `O(log(n))`"
   ]
  },
  {
   "cell_type": "code",
   "execution_count": 84,
   "metadata": {},
   "outputs": [
    {
     "name": "stdout",
     "output_type": "stream",
     "text": [
      "[0, 5, 10, 15, 20, 25, 30, 35, 40, 45, 50, 55, 60, 65, 70, 75, 80, 85, 90, 95, 100, 105, 110, 115, 120, 125, 130, 135, 140, 145, 150, 155, 160, 165, 170, 175, 180, 185, 190, 195, 200, 205, 210, 215, 220, 225, 230, 235, 240, 245, 250, 255, 260, 265, 270, 275, 280, 285, 290, 295, 300, 305, 310, 315, 320, 325, 330, 335, 340, 345, 350, 355, 360, 365, 370, 375, 380, 385, 390, 395, 400, 405, 410, 415, 420, 425, 430, 435, 440, 445, 450, 455, 460, 465, 470, 475, 480, 485, 490, 495, 500, 505, 510, 515, 520, 525, 530, 535, 540, 545, 550, 555, 560, 565, 570, 575, 580, 585, 590, 595, 600, 605, 610, 615, 620, 625, 630, 635, 640, 645, 650, 655, 660, 665, 670, 675, 680, 685, 690, 695, 700, 705, 710, 715, 720, 725, 730, 735, 740, 745, 750, 755, 760, 765, 770, 775, 780, 785, 790, 795, 800, 805, 810, 815, 820, 825, 830, 835, 840, 845, 850, 855, 860, 865, 870, 875, 880, 885, 890, 895, 900, 905, 910, 915, 920, 925, 930, 935, 940, 945, 950, 955, 960, 965, 970, 975, 980, 985, 990, 995]\n"
     ]
    }
   ],
   "source": [
    "list_to_search = [x for x in range(0,1000,5)]\n",
    "print(list_to_search)"
   ]
  },
  {
   "cell_type": "code",
   "execution_count": 81,
   "metadata": {},
   "outputs": [
    {
     "data": {
      "text/plain": [
       "'the index for 98 is 9'"
      ]
     },
     "execution_count": 81,
     "metadata": {},
     "output_type": "execute_result"
    }
   ],
   "source": [
    "# Less == Left\n",
    "# Greater == Right\n",
    "# List of numbers MUST be sorted\n",
    "\n",
    "def binary_search(lst, target):\n",
    "    low = 0\n",
    "    high = len(lst) -1\n",
    "    while low <= high:\n",
    "        mid = (low + high) //2\n",
    "        if target == lst[mid]:\n",
    "            return f\"the index for {target} is {mid}\"\n",
    "        elif target > lst[mid]:\n",
    "            low = mid + 1\n",
    "        else:\n",
    "            high = mid - 1\n",
    "    # If low ever gets higher than high, we know the target is not in list\n",
    "    return -1\n",
    "binary_search(list_to_search, 98)\n"
   ]
  },
  {
   "cell_type": "code",
   "execution_count": 86,
   "metadata": {},
   "outputs": [
    {
     "data": {
      "text/plain": [
       "'the index for 425 is 85 and it took 8 checks'"
      ]
     },
     "execution_count": 86,
     "metadata": {},
     "output_type": "execute_result"
    }
   ],
   "source": [
    "#w/ num checks\n",
    "def binary_search(lst, target):\n",
    "    low = 0\n",
    "    high = len(lst) -1\n",
    "    num_checks = 0\n",
    "    while low <= high:\n",
    "        mid = (low + high) //2\n",
    "        num_checks += 1\n",
    "        if target == lst[mid]:\n",
    "            return f\"the index for {target} is {mid} and it took {num_checks} checks\"\n",
    "        elif target > lst[mid]:\n",
    "            low = mid + 1\n",
    "        else:\n",
    "            high = mid - 1\n",
    "    # If low ever gets higher than high, we know the target is not in list\n",
    "    return -1\n",
    "binary_search(list_to_search, 425)\n"
   ]
  },
  {
   "cell_type": "markdown",
   "metadata": {},
   "source": [
    "# Exercises"
   ]
  },
  {
   "cell_type": "markdown",
   "metadata": {},
   "source": [
    "### Exercise #1 <br>\n",
    "<p>Write a function that takes a list of integers and returns the median value</p>"
   ]
  },
  {
   "cell_type": "code",
   "execution_count": 3,
   "metadata": {},
   "outputs": [
    {
     "name": "stdout",
     "output_type": "stream",
     "text": [
      "<function median at 0x1122e6340>\n"
     ]
    }
   ],
   "source": [
    "num_list =  [x for x in range(0,1000,5)]\n",
    "\n",
    "def median(nums):\n",
    "\n",
    "    n = len(num_list)\n",
    "    num_list.sort()\n",
    "    if n % 2 == 0:\n",
    "        m1 = num_list[n//2]\n",
    "        m2 = num_list[n//2 - 1]\n",
    "        median = (m1 + m2) / 2\n",
    "    else:\n",
    "        median = num_list[n//2]\n",
    "print(str(median))"
   ]
  },
  {
   "cell_type": "code",
   "execution_count": 4,
   "metadata": {},
   "outputs": [
    {
     "data": {
      "text/plain": [
       "500"
      ]
     },
     "execution_count": 4,
     "metadata": {},
     "output_type": "execute_result"
    }
   ],
   "source": [
    "def median2(nums):\n",
    "    sorted_nums = sorted(nums)\n",
    "    if len(sorted_nums) %2==0:\n",
    "        mid = len(sorted_nums) //2\n",
    "        return sorted_nums[mid]\n",
    "    else:\n",
    "        left_mid = len(sorted_nums) // 2-1\n",
    "        right_mid = len(sorted_nums) //  2\n",
    "        return (sorted_nums[left_mid] + sorted_nums[right_mid]) /2\n",
    "    \n",
    "median2(num_list)"
   ]
  },
  {
   "cell_type": "code",
   "execution_count": 5,
   "metadata": {},
   "outputs": [
    {
     "ename": "SyntaxError",
     "evalue": "invalid syntax. Perhaps you forgot a comma? (2017318611.py, line 1)",
     "output_type": "error",
     "traceback": [
      "\u001b[0;36m  Cell \u001b[0;32mIn[5], line 1\u001b[0;36m\u001b[0m\n\u001b[0;31m    print(median2[x for x in range(1,10)])\u001b[0m\n\u001b[0m          ^\u001b[0m\n\u001b[0;31mSyntaxError\u001b[0m\u001b[0;31m:\u001b[0m invalid syntax. Perhaps you forgot a comma?\n"
     ]
    }
   ],
   "source": [
    "print(median2[x for x in range(1,10)])\n",
    "print('hel')"
   ]
  },
  {
   "cell_type": "markdown",
   "metadata": {},
   "source": [
    "### Exercise #2 <br>\n",
    "<p>Create a function that counts how many distinct words are in the string below, then outputs a dictionary with the words as the key and the value as the amount of times that word appears in the string.</p>\n",
    "Example Output:<code>{'in': 1, 'computing': 1, 'a': 5, ...}</code>"
   ]
  },
  {
   "cell_type": "code",
   "execution_count": 142,
   "metadata": {},
   "outputs": [
    {
     "name": "stdout",
     "output_type": "stream",
     "text": [
      "There are 53 words in the string \n"
     ]
    },
    {
     "data": {
      "text/plain": [
       "{'in': 1,\n",
       " 'computing,': 1,\n",
       " 'a': 5,\n",
       " 'hash': 4,\n",
       " 'table': 2,\n",
       " 'map': 2,\n",
       " 'is': 1,\n",
       " 'data': 2,\n",
       " 'structure': 2,\n",
       " 'which': 2,\n",
       " 'implements': 1,\n",
       " 'an': 3,\n",
       " 'associative': 1,\n",
       " 'array': 2,\n",
       " 'abstract': 1,\n",
       " 'type,': 1,\n",
       " 'that': 1,\n",
       " 'can': 2,\n",
       " 'keys': 1,\n",
       " 'to': 2,\n",
       " 'values.': 1,\n",
       " 'uses': 1,\n",
       " 'function': 1,\n",
       " 'compute': 1,\n",
       " 'index': 1,\n",
       " 'into': 1,\n",
       " 'of': 1,\n",
       " 'buckets': 1,\n",
       " 'or': 1,\n",
       " 'slots': 1,\n",
       " 'from': 1,\n",
       " 'the': 1,\n",
       " 'desired': 1,\n",
       " 'value': 1,\n",
       " 'be': 1,\n",
       " 'found': 1}"
      ]
     },
     "execution_count": 142,
     "metadata": {},
     "output_type": "execute_result"
    }
   ],
   "source": [
    "text = 'In computing, a hash table hash map is a data structure which implements an associative array abstract data type, a structure that can map keys to values. A hash table uses a hash function to compute an index into an array of buckets or slots from which the desired value can be found'\n",
    "\n",
    "def count_words(x):\n",
    "    length = len(x.split())\n",
    "    print(f\"There are {length} words in the string \")\n",
    "    words = x.split()\n",
    "    count = {}\n",
    "    for i in words:\n",
    "        i = i.strip().lower()\n",
    "        count[i] = count.get(i, 0) + 1\n",
    "        #print(i)\n",
    "\n",
    "    return count\n",
    "    \n",
    "count_words(text)"
   ]
  },
  {
   "cell_type": "code",
   "execution_count": 8,
   "metadata": {},
   "outputs": [],
   "source": [
    "a_text = 'In computing, a hash table hash map is a data structure which implements an associative array abstract data type, a structure that can map keys to values. A hash table uses a hash function to compute an index into an array of buckets or slots from which the desired value can be found'\n"
   ]
  },
  {
   "cell_type": "code",
   "execution_count": 11,
   "metadata": {},
   "outputs": [
    {
     "data": {
      "text/plain": [
       "{'In': 1,\n",
       " 'computing,': 1,\n",
       " 'a': 4,\n",
       " 'hash': 4,\n",
       " 'table': 2,\n",
       " 'map': 2,\n",
       " 'is': 1,\n",
       " 'data': 2,\n",
       " 'structure': 2,\n",
       " 'which': 2,\n",
       " 'implements': 1,\n",
       " 'an': 3,\n",
       " 'associative': 1,\n",
       " 'array': 2,\n",
       " 'abstract': 1,\n",
       " 'type,': 1,\n",
       " 'that': 1,\n",
       " 'can': 2,\n",
       " 'keys': 1,\n",
       " 'to': 2,\n",
       " 'values.': 1,\n",
       " 'A': 1,\n",
       " 'uses': 1,\n",
       " 'function': 1,\n",
       " 'compute': 1,\n",
       " 'index': 1,\n",
       " 'into': 1,\n",
       " 'of': 1,\n",
       " 'buckets': 1,\n",
       " 'or': 1,\n",
       " 'slots': 1,\n",
       " 'from': 1,\n",
       " 'the': 1,\n",
       " 'desired': 1,\n",
       " 'value': 1,\n",
       " 'be': 1,\n",
       " 'found': 1}"
      ]
     },
     "execution_count": 11,
     "metadata": {},
     "output_type": "execute_result"
    }
   ],
   "source": [
    "def count_words(string):\n",
    "    words = string.split()\n",
    "    word_count = {}\n",
    "    for word in words:\n",
    "        if word in word_count:\n",
    "            word_count[word] += 1\n",
    "        else:\n",
    "            word_count[word] =1\n",
    "    return word_count\n",
    "count_words(a_text)"
   ]
  },
  {
   "cell_type": "code",
   "execution_count": 13,
   "metadata": {},
   "outputs": [
    {
     "data": {
      "text/plain": [
       "{'In': 1,\n",
       " 'computing': 1,\n",
       " 'a': 4,\n",
       " 'hash': 4,\n",
       " 'table': 2,\n",
       " 'map': 2,\n",
       " 'is': 1,\n",
       " 'data': 2,\n",
       " 'structure': 2,\n",
       " 'which': 2,\n",
       " 'implements': 1,\n",
       " 'an': 3,\n",
       " 'associative': 1,\n",
       " 'array': 2,\n",
       " 'abstract': 1,\n",
       " 'type': 1,\n",
       " 'that': 1,\n",
       " 'can': 2,\n",
       " 'keys': 1,\n",
       " 'to': 2,\n",
       " 'values': 1,\n",
       " 'A': 1,\n",
       " 'uses': 1,\n",
       " 'function': 1,\n",
       " 'compute': 1,\n",
       " 'index': 1,\n",
       " 'into': 1,\n",
       " 'of': 1,\n",
       " 'buckets': 1,\n",
       " 'or': 1,\n",
       " 'slots': 1,\n",
       " 'from': 1,\n",
       " 'the': 1,\n",
       " 'desired': 1,\n",
       " 'value': 1,\n",
       " 'be': 1,\n",
       " 'found': 1}"
      ]
     },
     "execution_count": 13,
     "metadata": {},
     "output_type": "execute_result"
    }
   ],
   "source": [
    "import re\n",
    "\n",
    "def count_words(string):\n",
    "    words = re.findall('\\w+', string)\n",
    "    word_count = {}\n",
    "    for word in words:\n",
    "        if word in word_count:\n",
    "            word_count[word] +=1\n",
    "        else:\n",
    "            word_count[word] = 1\n",
    "    return word_count\n",
    "count_words(a_text)"
   ]
  },
  {
   "cell_type": "markdown",
   "metadata": {},
   "source": [
    "## Exercise #3\n",
    "\n",
    "Write a function implementing a Linear Search Algorithm. A linear search is a method for finding an element within a list. It sequentially checks each element of the list until a match is found or the whole list has been searched. If you do not find a match, return -1"
   ]
  },
  {
   "cell_type": "code",
   "execution_count": 15,
   "metadata": {},
   "outputs": [
    {
     "name": "stdout",
     "output_type": "stream",
     "text": [
      "[0, 5, 10, 15, 20, 25, 30, 35, 40, 45, 50, 55, 60, 65, 70, 75, 80, 85, 90, 95, 100, 105, 110, 115, 120, 125, 130, 135, 140, 145, 150, 155, 160, 165, 170, 175, 180, 185, 190, 195, 200, 205, 210, 215, 220, 225, 230, 235, 240, 245, 250, 255, 260, 265, 270, 275, 280, 285, 290, 295, 300, 305, 310, 315, 320, 325, 330, 335, 340, 345, 350, 355, 360, 365, 370, 375, 380, 385, 390, 395, 400, 405, 410, 415, 420, 425, 430, 435, 440, 445, 450, 455, 460, 465, 470, 475, 480, 485, 490, 495, 500, 505, 510, 515, 520, 525, 530, 535, 540, 545, 550, 555, 560, 565, 570, 575, 580, 585, 590, 595, 600, 605, 610, 615, 620, 625, 630, 635, 640, 645, 650, 655, 660, 665, 670, 675, 680, 685, 690, 695, 700, 705, 710, 715, 720, 725, 730, 735, 740, 745, 750, 755, 760, 765, 770, 775, 780, 785, 790, 795, 800, 805, 810, 815, 820, 825, 830, 835, 840, 845, 850, 855, 860, 865, 870, 875, 880, 885, 890, 895, 900, 905, 910, 915, 920, 925, 930, 935, 940, 945, 950, 955, 960, 965, 970, 975, 980, 985, 990, 995]\n"
     ]
    }
   ],
   "source": [
    "num_list =  [x for x in range(0,1000,5)]\n",
    "nums = sorted(num_list)\n",
    "print(nums)"
   ]
  },
  {
   "cell_type": "code",
   "execution_count": 19,
   "metadata": {},
   "outputs": [
    {
     "data": {
      "text/plain": [
       "123"
      ]
     },
     "execution_count": 19,
     "metadata": {},
     "output_type": "execute_result"
    }
   ],
   "source": [
    "#linear search\n",
    "def linearsearch(lst,val):\n",
    "    i = 0\n",
    "    while (i < len(lst) and lst[i] < val):\n",
    "        i+=1\n",
    "        if (i>=len(lst or lst(i)) != val):\n",
    "            return -1\n",
    "        \n",
    "    return i\n",
    "linearsearch(nums, 615)\n",
    "    "
   ]
  },
  {
   "cell_type": "code",
   "execution_count": 18,
   "metadata": {},
   "outputs": [
    {
     "data": {
      "text/plain": [
       "'index for 21 is 7'"
      ]
     },
     "execution_count": 18,
     "metadata": {},
     "output_type": "execute_result"
    }
   ],
   "source": [
    "list34 = (2,3,4,5,6,7,8,21,24,25,28,29,30)\n",
    "\n",
    "def linear_search(lst,target):\n",
    "    for i in range(len(lst)):\n",
    "        if lst[i] == target:\n",
    "            return f\"index for {target} is {i}\"\n",
    "    return -1\n",
    "linear_search(list34, 21)"
   ]
  },
  {
   "cell_type": "code",
   "execution_count": null,
   "metadata": {},
   "outputs": [],
   "source": []
  }
 ],
 "metadata": {
  "kernelspec": {
   "display_name": "Python 3 (ipykernel)",
   "language": "python",
   "name": "python3"
  },
  "language_info": {
   "codemirror_mode": {
    "name": "ipython",
    "version": 3
   },
   "file_extension": ".py",
   "mimetype": "text/x-python",
   "name": "python",
   "nbconvert_exporter": "python",
   "pygments_lexer": "ipython3",
   "version": "3.11.4"
  }
 },
 "nbformat": 4,
 "nbformat_minor": 2
}
